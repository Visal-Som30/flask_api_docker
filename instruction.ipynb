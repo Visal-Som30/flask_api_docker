{
 "cells": [
  {
   "cell_type": "markdown",
   "metadata": {},
   "source": [
    "🚀 **How to Run This Project in Docker** 🐳\n",
    "\n",
    "So, you've just cloned a fantastic Flask API project from GitHub? Awesome! Now, let’s get it up and running in Docker with just a few simple steps. Follow along, and you’ll have your API live in no time! 🎉\n"
   ]
  },
  {
   "cell_type": "markdown",
   "metadata": {},
   "source": [
    "### **Step 1: Navigate to the Project Directory** 📂"
   ]
  },
  {
   "cell_type": "markdown",
   "metadata": {},
   "source": [
    "First things first, make sure you’re in the right place. Open your terminal and navigate to the directory where the `docker-compose.yml` file is located. This file is your golden ticket to running the project in Docker"
   ]
  },
  {
   "cell_type": "markdown",
   "metadata": {},
   "source": [
    "```bash\n",
    "cd path/to/your/project\n",
    "```"
   ]
  },
  {
   "cell_type": "markdown",
   "metadata": {},
   "source": [
    "### **Step 2: Build the Docker Image** 🛠️\n",
    "\n",
    "Now, let’s build the Docker image. Think of this as setting up the stage for your Flask API to shine. Run the following command."
   ]
  },
  {
   "cell_type": "markdown",
   "metadata": {},
   "source": [
    "\n",
    "```bash\n",
    "docker-compose build\n",
    "```"
   ]
  },
  {
   "cell_type": "markdown",
   "metadata": {},
   "source": [
    "This command will read the `docker-compose.yml` file and create the necessary Docker images. Grab a coffee ☕ while it builds—it’ll only take a moment!"
   ]
  },
  {
   "cell_type": "markdown",
   "metadata": {},
   "source": [
    " ### **Step 3: Start the Container** 🚀"
   ]
  },
  {
   "cell_type": "markdown",
   "metadata": {},
   "source": [
    "With the image built, it’s time to bring your project to life! Run the following command to start the Docker container:"
   ]
  },
  {
   "cell_type": "markdown",
   "metadata": {},
   "source": [
    "```bash\n",
    "docker-compose up\n",
    "```"
   ]
  },
  {
   "cell_type": "markdown",
   "metadata": {},
   "source": [
    "And just like that, your Flask API will be up and running inside a Docker container! 🌐\n"
   ]
  },
  {
   "cell_type": "markdown",
   "metadata": {},
   "source": [
    "### **Step 4: Test the API** 🧪"
   ]
  },
  {
   "cell_type": "markdown",
   "metadata": {},
   "source": [
    "Now that your API is running, let’s make sure it’s working as expected. Here’s how you can test it:"
   ]
  },
  {
   "cell_type": "markdown",
   "metadata": {},
   "source": [
    "#### **Option 1: Use `curl` in the Terminal**\n",
    "You can use `curl` to send HTTP requests to your API. For example:"
   ]
  },
  {
   "cell_type": "markdown",
   "metadata": {},
   "source": [
    "```bash\n",
    "curl http://localhost:5000/your-endpoint\n",
    "```"
   ]
  },
  {
   "cell_type": "markdown",
   "metadata": {},
   "source": [
    "Replace `your-endpoint` with the actual endpoint you want to test. If the API returns a JSON response, you’ll see it printed in the terminal."
   ]
  },
  {
   "cell_type": "markdown",
   "metadata": {},
   "source": [
    "#### **Option 2: Use Postman**"
   ]
  },
  {
   "cell_type": "markdown",
   "metadata": {},
   "source": [
    "Postman is a great tool for testing APIs. Here’s how to use it:\n",
    "1. Open Postman.\n",
    "2. Set the request type (GET, POST, etc.).\n",
    "3. Enter the URL: `http://localhost:5000/your-endpoint`.\n",
    "4. Add any required headers or body data.\n",
    "5. Click **Send** and check the response."
   ]
  },
  {
   "cell_type": "markdown",
   "metadata": {},
   "source": [
    "#### **Option 3: Write a Python Script**"
   ]
  },
  {
   "cell_type": "markdown",
   "metadata": {},
   "source": [
    "You can also write a simple Python script to test the API using the `requests` library:"
   ]
  },
  {
   "cell_type": "markdown",
   "metadata": {},
   "source": [
    "```python\n",
    "import requests\n",
    "\n",
    "response = requests.get(\"http://localhost:5000/your-endpoint\")\n",
    "print(response.status_code)  # Should print 200 if successful\n",
    "print(response.json())       # Print the JSON response\n",
    "```"
   ]
  },
  {
   "cell_type": "markdown",
   "metadata": {},
   "source": [
    "### **Bonus Tips** 💡"
   ]
  },
  {
   "cell_type": "markdown",
   "metadata": {},
   "source": [
    "- **Detached Mode:** If you want to run the container in the background, simply add the `-d` flag:"
   ]
  },
  {
   "cell_type": "markdown",
   "metadata": {},
   "source": [
    "```bash\n",
    "docker-compose up -d\n",
    "```\n"
   ]
  },
  {
   "cell_type": "markdown",
   "metadata": {},
   "source": [
    "- **Check Logs:** To see what’s happening inside your container, use:"
   ]
  },
  {
   "cell_type": "markdown",
   "metadata": {
    "vscode": {
     "languageId": "plaintext"
    }
   },
   "source": [
    "```bash\n",
    "docker-compose logs -f\n",
    "```"
   ]
  },
  {
   "cell_type": "markdown",
   "metadata": {},
   "source": [
    "- **Stop the Container:** When you’re done, gracefully stop the container with:"
   ]
  },
  {
   "cell_type": "markdown",
   "metadata": {},
   "source": [
    "```bash\n",
    "docker-compose down\n",
    "```"
   ]
  },
  {
   "cell_type": "markdown",
   "metadata": {},
   "source": [
    "That’s it! You’ve successfully Dockerized your Flask API project. 🎉 Now, go ahead and explore the endless possibilities of your API, all neatly packaged in a Docker container. Happy coding! 💻✨"
   ]
  }
 ],
 "metadata": {
  "language_info": {
   "name": "python"
  }
 },
 "nbformat": 4,
 "nbformat_minor": 2
}
